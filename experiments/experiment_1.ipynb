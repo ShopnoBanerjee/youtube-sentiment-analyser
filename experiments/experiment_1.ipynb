{
 "cells": [
  {
   "cell_type": "code",
   "execution_count": 14,
   "id": "d8521136",
   "metadata": {},
   "outputs": [],
   "source": [
    "#test mlflow\n",
    "import mlflow\n",
    "\n",
    "mlflow.set_tracking_uri(\"http://ec2-13-204-157-189.ap-south-1.compute.amazonaws.com:5000/\")"
   ]
  },
  {
   "cell_type": "code",
   "execution_count": 15,
   "id": "706e3ff5",
   "metadata": {},
   "outputs": [
    {
     "data": {
      "text/plain": [
       "<Experiment: artifact_location='s3://mlflow-bucket-241103/868044054274591244', creation_time=1756495465881, experiment_id='868044054274591244', last_update_time=1756495465881, lifecycle_stage='active', name='Tf Idf Trigram max_features', tags={}>"
      ]
     },
     "execution_count": 15,
     "metadata": {},
     "output_type": "execute_result"
    }
   ],
   "source": [
    "mlflow.set_experiment(\"Tf Idf Trigram max_features\")"
   ]
  },
  {
   "cell_type": "code",
   "execution_count": null,
   "id": "943fc81b",
   "metadata": {},
   "outputs": [],
   "source": [
    "from sklearn.feature_extraction.text import TfidfVectorizer\n",
    "from sklearn.ensemble import RandomForestClassifier\n",
    "from sklearn.model_selection import train_test_split\n",
    "from sklearn.metrics import accuracy_score, classification_report, confusion_matrix\n",
    "import mlflow\n",
    "import matplotlib.pyplot as plt\n",
    "import seaborn as sns\n",
    "import pandas as pd\n"
   ]
  },
  {
   "cell_type": "code",
   "execution_count": 17,
   "id": "06fe2282",
   "metadata": {},
   "outputs": [
    {
     "data": {
      "text/html": [
       "<div>\n",
       "<style scoped>\n",
       "    .dataframe tbody tr th:only-of-type {\n",
       "        vertical-align: middle;\n",
       "    }\n",
       "\n",
       "    .dataframe tbody tr th {\n",
       "        vertical-align: top;\n",
       "    }\n",
       "\n",
       "    .dataframe thead th {\n",
       "        text-align: right;\n",
       "    }\n",
       "</style>\n",
       "<table border=\"1\" class=\"dataframe\">\n",
       "  <thead>\n",
       "    <tr style=\"text-align: right;\">\n",
       "      <th></th>\n",
       "      <th>clean_text</th>\n",
       "      <th>category</th>\n",
       "    </tr>\n",
       "  </thead>\n",
       "  <tbody>\n",
       "    <tr>\n",
       "      <th>0</th>\n",
       "      <td>modi promised “minimum government maximum gove...</td>\n",
       "      <td>-1.0</td>\n",
       "    </tr>\n",
       "    <tr>\n",
       "      <th>1</th>\n",
       "      <td>talk nonsense continue drama vote modi</td>\n",
       "      <td>0.0</td>\n",
       "    </tr>\n",
       "    <tr>\n",
       "      <th>2</th>\n",
       "      <td>say vote modi welcome bjp told rahul main camp...</td>\n",
       "      <td>1.0</td>\n",
       "    </tr>\n",
       "    <tr>\n",
       "      <th>3</th>\n",
       "      <td>asking supporter prefix chowkidar name modi gr...</td>\n",
       "      <td>1.0</td>\n",
       "    </tr>\n",
       "    <tr>\n",
       "      <th>4</th>\n",
       "      <td>answer among powerful world leader today trump...</td>\n",
       "      <td>1.0</td>\n",
       "    </tr>\n",
       "  </tbody>\n",
       "</table>\n",
       "</div>"
      ],
      "text/plain": [
       "                                          clean_text  category\n",
       "0  modi promised “minimum government maximum gove...      -1.0\n",
       "1             talk nonsense continue drama vote modi       0.0\n",
       "2  say vote modi welcome bjp told rahul main camp...       1.0\n",
       "3  asking supporter prefix chowkidar name modi gr...       1.0\n",
       "4  answer among powerful world leader today trump...       1.0"
      ]
     },
     "execution_count": 17,
     "metadata": {},
     "output_type": "execute_result"
    }
   ],
   "source": [
    "df = pd.read_csv('../data/processed/Preprocessed_Data.csv')\n",
    "df.head()"
   ]
  },
  {
   "cell_type": "code",
   "execution_count": 18,
   "id": "f16fbb2f",
   "metadata": {},
   "outputs": [],
   "source": [
    "df = df.dropna(subset=['clean_text', 'category'])"
   ]
  },
  {
   "cell_type": "code",
   "execution_count": 22,
   "id": "26b3a7bb",
   "metadata": {},
   "outputs": [
    {
     "name": "stderr",
     "output_type": "stream",
     "text": [
      "2025/08/30 01:42:16 WARNING mlflow.models.model: `artifact_path` is deprecated. Please use `name` instead.\n",
      "2025/08/30 01:42:25 WARNING mlflow.models.model: Model logged without a signature and input example. Please set `input_example` parameter when logging the model to auto infer the model signature.\n"
     ]
    },
    {
     "name": "stdout",
     "output_type": "stream",
     "text": [
      "🏃 View run TFIDF_Trigrams_max_features_1000 at: http://ec2-13-204-157-189.ap-south-1.compute.amazonaws.com:5000/#/experiments/868044054274591244/runs/a9b948a3b51a44ef978bf39099382908\n",
      "🧪 View experiment at: http://ec2-13-204-157-189.ap-south-1.compute.amazonaws.com:5000/#/experiments/868044054274591244\n"
     ]
    },
    {
     "name": "stderr",
     "output_type": "stream",
     "text": [
      "2025/08/30 01:43:25 WARNING mlflow.models.model: `artifact_path` is deprecated. Please use `name` instead.\n",
      "2025/08/30 01:43:32 WARNING mlflow.models.model: Model logged without a signature and input example. Please set `input_example` parameter when logging the model to auto infer the model signature.\n"
     ]
    },
    {
     "name": "stdout",
     "output_type": "stream",
     "text": [
      "🏃 View run TFIDF_Trigrams_max_features_2000 at: http://ec2-13-204-157-189.ap-south-1.compute.amazonaws.com:5000/#/experiments/868044054274591244/runs/e0e0ee093bf548f09f766cb47c9bb1d3\n",
      "🧪 View experiment at: http://ec2-13-204-157-189.ap-south-1.compute.amazonaws.com:5000/#/experiments/868044054274591244\n"
     ]
    },
    {
     "name": "stderr",
     "output_type": "stream",
     "text": [
      "2025/08/30 01:44:37 WARNING mlflow.models.model: `artifact_path` is deprecated. Please use `name` instead.\n",
      "2025/08/30 01:44:45 WARNING mlflow.models.model: Model logged without a signature and input example. Please set `input_example` parameter when logging the model to auto infer the model signature.\n"
     ]
    },
    {
     "name": "stdout",
     "output_type": "stream",
     "text": [
      "🏃 View run TFIDF_Trigrams_max_features_3000 at: http://ec2-13-204-157-189.ap-south-1.compute.amazonaws.com:5000/#/experiments/868044054274591244/runs/b7c8afc9edf649759ec0c91a095b0dfa\n",
      "🧪 View experiment at: http://ec2-13-204-157-189.ap-south-1.compute.amazonaws.com:5000/#/experiments/868044054274591244\n"
     ]
    },
    {
     "name": "stderr",
     "output_type": "stream",
     "text": [
      "2025/08/30 01:45:46 WARNING mlflow.models.model: `artifact_path` is deprecated. Please use `name` instead.\n",
      "2025/08/30 01:45:54 WARNING mlflow.models.model: Model logged without a signature and input example. Please set `input_example` parameter when logging the model to auto infer the model signature.\n"
     ]
    },
    {
     "name": "stdout",
     "output_type": "stream",
     "text": [
      "🏃 View run TFIDF_Trigrams_max_features_4000 at: http://ec2-13-204-157-189.ap-south-1.compute.amazonaws.com:5000/#/experiments/868044054274591244/runs/d39c46e615724997a7882e186b4c2456\n",
      "🧪 View experiment at: http://ec2-13-204-157-189.ap-south-1.compute.amazonaws.com:5000/#/experiments/868044054274591244\n"
     ]
    },
    {
     "name": "stderr",
     "output_type": "stream",
     "text": [
      "2025/08/30 01:47:12 WARNING mlflow.models.model: `artifact_path` is deprecated. Please use `name` instead.\n",
      "2025/08/30 01:47:22 WARNING mlflow.models.model: Model logged without a signature and input example. Please set `input_example` parameter when logging the model to auto infer the model signature.\n"
     ]
    },
    {
     "name": "stdout",
     "output_type": "stream",
     "text": [
      "🏃 View run TFIDF_Trigrams_max_features_5000 at: http://ec2-13-204-157-189.ap-south-1.compute.amazonaws.com:5000/#/experiments/868044054274591244/runs/fcd06d09846f47f3acaf2589ad14f7cb\n",
      "🧪 View experiment at: http://ec2-13-204-157-189.ap-south-1.compute.amazonaws.com:5000/#/experiments/868044054274591244\n"
     ]
    },
    {
     "name": "stderr",
     "output_type": "stream",
     "text": [
      "2025/08/30 01:49:59 WARNING mlflow.models.model: `artifact_path` is deprecated. Please use `name` instead.\n",
      "2025/08/30 01:50:06 WARNING mlflow.models.model: Model logged without a signature and input example. Please set `input_example` parameter when logging the model to auto infer the model signature.\n"
     ]
    },
    {
     "name": "stdout",
     "output_type": "stream",
     "text": [
      "🏃 View run TFIDF_Trigrams_max_features_6000 at: http://ec2-13-204-157-189.ap-south-1.compute.amazonaws.com:5000/#/experiments/868044054274591244/runs/621073bb254446a7a837289d662d4f0b\n",
      "🧪 View experiment at: http://ec2-13-204-157-189.ap-south-1.compute.amazonaws.com:5000/#/experiments/868044054274591244\n"
     ]
    },
    {
     "name": "stderr",
     "output_type": "stream",
     "text": [
      "2025/08/30 01:50:56 WARNING mlflow.models.model: `artifact_path` is deprecated. Please use `name` instead.\n",
      "2025/08/30 01:51:02 WARNING mlflow.models.model: Model logged without a signature and input example. Please set `input_example` parameter when logging the model to auto infer the model signature.\n"
     ]
    },
    {
     "name": "stdout",
     "output_type": "stream",
     "text": [
      "🏃 View run TFIDF_Trigrams_max_features_7000 at: http://ec2-13-204-157-189.ap-south-1.compute.amazonaws.com:5000/#/experiments/868044054274591244/runs/10a48e11f6434fe9bb807b3048089143\n",
      "🧪 View experiment at: http://ec2-13-204-157-189.ap-south-1.compute.amazonaws.com:5000/#/experiments/868044054274591244\n"
     ]
    },
    {
     "name": "stderr",
     "output_type": "stream",
     "text": [
      "2025/08/30 01:51:49 WARNING mlflow.models.model: `artifact_path` is deprecated. Please use `name` instead.\n",
      "2025/08/30 01:51:56 WARNING mlflow.models.model: Model logged without a signature and input example. Please set `input_example` parameter when logging the model to auto infer the model signature.\n"
     ]
    },
    {
     "name": "stdout",
     "output_type": "stream",
     "text": [
      "🏃 View run TFIDF_Trigrams_max_features_8000 at: http://ec2-13-204-157-189.ap-south-1.compute.amazonaws.com:5000/#/experiments/868044054274591244/runs/a5b5d00c94134a7a8b52378565ff836d\n",
      "🧪 View experiment at: http://ec2-13-204-157-189.ap-south-1.compute.amazonaws.com:5000/#/experiments/868044054274591244\n"
     ]
    },
    {
     "name": "stderr",
     "output_type": "stream",
     "text": [
      "2025/08/30 01:52:51 WARNING mlflow.models.model: `artifact_path` is deprecated. Please use `name` instead.\n",
      "2025/08/30 01:52:57 WARNING mlflow.models.model: Model logged without a signature and input example. Please set `input_example` parameter when logging the model to auto infer the model signature.\n"
     ]
    },
    {
     "name": "stdout",
     "output_type": "stream",
     "text": [
      "🏃 View run TFIDF_Trigrams_max_features_9000 at: http://ec2-13-204-157-189.ap-south-1.compute.amazonaws.com:5000/#/experiments/868044054274591244/runs/9201f96844394af5b2218d5eb1fbd7b3\n",
      "🧪 View experiment at: http://ec2-13-204-157-189.ap-south-1.compute.amazonaws.com:5000/#/experiments/868044054274591244\n"
     ]
    },
    {
     "name": "stderr",
     "output_type": "stream",
     "text": [
      "2025/08/30 01:53:54 WARNING mlflow.models.model: `artifact_path` is deprecated. Please use `name` instead.\n",
      "2025/08/30 01:54:00 WARNING mlflow.models.model: Model logged without a signature and input example. Please set `input_example` parameter when logging the model to auto infer the model signature.\n"
     ]
    },
    {
     "name": "stdout",
     "output_type": "stream",
     "text": [
      "🏃 View run TFIDF_Trigrams_max_features_10000 at: http://ec2-13-204-157-189.ap-south-1.compute.amazonaws.com:5000/#/experiments/868044054274591244/runs/b7068343c597452298eb7ec3c8819345\n",
      "🧪 View experiment at: http://ec2-13-204-157-189.ap-south-1.compute.amazonaws.com:5000/#/experiments/868044054274591244\n"
     ]
    }
   ],
   "source": [
    "def run_experiment_tfidf_max_features(max_features):\n",
    "    ngram_range = (1, 3)  # Trigram setting\n",
    "\n",
    "    # Step 2: Vectorization using TF-IDF with varying max_features\n",
    "    vectorizer = TfidfVectorizer(ngram_range=ngram_range, max_features=max_features)\n",
    "\n",
    "    X_train, X_test, y_train, y_test = train_test_split(df['clean_text'], df['category'], test_size=0.2, random_state=42, stratify=df['category'])\n",
    "\n",
    "    X_train = vectorizer.fit_transform(X_train)\n",
    "    X_test = vectorizer.transform(X_test)\n",
    "\n",
    "    # Step 4: Define and train a Random Forest model\n",
    "    with mlflow.start_run() as run:\n",
    "        # Set tags for the experiment and run\n",
    "        mlflow.set_tag(\"mlflow.runName\", f\"TFIDF_Trigrams_max_features_{max_features}\")\n",
    "        mlflow.set_tag(\"experiment_type\", \"feature_engineering\")\n",
    "        mlflow.set_tag(\"model_type\", \"RandomForestClassifier\")\n",
    "\n",
    "        # Add a description\n",
    "        mlflow.set_tag(\"description\", f\"RandomForest with TF-IDF Trigrams, max_features={max_features}\")\n",
    "\n",
    "        # Log vectorizer parameters\n",
    "        mlflow.log_param(\"vectorizer_type\", \"TF-IDF\")\n",
    "        mlflow.log_param(\"ngram_range\", ngram_range)\n",
    "        mlflow.log_param(\"vectorizer_max_features\", max_features)\n",
    "\n",
    "        # Log Random Forest parameters\n",
    "        n_estimators = 200\n",
    "        max_depth = 15\n",
    "\n",
    "        mlflow.log_param(\"n_estimators\", n_estimators)\n",
    "        mlflow.log_param(\"max_depth\", max_depth)\n",
    "\n",
    "        # Initialize and train the model\n",
    "        model = RandomForestClassifier(n_estimators=n_estimators, max_depth=max_depth, random_state=42)\n",
    "        model.fit(X_train, y_train)\n",
    "\n",
    "        # Step 5: Make predictions and log metrics\n",
    "        y_pred = model.predict(X_test)\n",
    "\n",
    "        # Log accuracy\n",
    "        accuracy = accuracy_score(y_test, y_pred)\n",
    "        mlflow.log_metric(\"accuracy\", accuracy)\n",
    "\n",
    "        # Log classification report\n",
    "        classification_rep = classification_report(y_test, y_pred, output_dict=True)\n",
    "        for label, metrics in classification_rep.items():\n",
    "            if isinstance(metrics, dict):\n",
    "                for metric, value in metrics.items():\n",
    "                    mlflow.log_metric(f\"{label}_{metric}\", value)\n",
    "\n",
    "        # Log confusion matrix\n",
    "        conf_matrix = confusion_matrix(y_test, y_pred)\n",
    "        plt.figure(figsize=(8, 6))\n",
    "        sns.heatmap(conf_matrix, annot=True, fmt=\"d\", cmap=\"Blues\")\n",
    "        plt.xlabel(\"Predicted\")\n",
    "        plt.ylabel(\"Actual\")\n",
    "        plt.title(f\"Confusion Matrix: TF-IDF Trigrams, max_features={max_features}\")\n",
    "        plt.savefig(\"confusion_matrix.png\")\n",
    "        mlflow.log_artifact(\"confusion_matrix.png\")\n",
    "        plt.close()\n",
    "\n",
    "        # Log the model\n",
    "        mlflow.sklearn.log_model(model, f\"random_forest_model_tfidf_trigrams_{max_features}\")\n",
    "\n",
    "# Step 6: Test various max_features values\n",
    "max_features_values = [1000, 2000, 3000, 4000, 5000, 6000, 7000, 8000, 9000, 10000]\n",
    "\n",
    "for max_features in max_features_values:\n",
    "    run_experiment_tfidf_max_features(max_features)"
   ]
  },
  {
   "cell_type": "code",
   "execution_count": null,
   "id": "01fddace",
   "metadata": {},
   "outputs": [],
   "source": []
  }
 ],
 "metadata": {
  "kernelspec": {
   "display_name": ".venv",
   "language": "python",
   "name": "python3"
  },
  "language_info": {
   "codemirror_mode": {
    "name": "ipython",
    "version": 3
   },
   "file_extension": ".py",
   "mimetype": "text/x-python",
   "name": "python",
   "nbconvert_exporter": "python",
   "pygments_lexer": "ipython3",
   "version": "3.12.3"
  }
 },
 "nbformat": 4,
 "nbformat_minor": 5
}
